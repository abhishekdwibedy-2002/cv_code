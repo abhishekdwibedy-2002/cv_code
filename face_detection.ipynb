{
 "cells": [
  {
   "cell_type": "code",
   "execution_count": 10,
   "id": "4f3693eb",
   "metadata": {},
   "outputs": [],
   "source": [
    "import cv2"
   ]
  },
  {
   "cell_type": "code",
   "execution_count": 11,
   "id": "1babc77e",
   "metadata": {},
   "outputs": [],
   "source": [
    "photo=cv2.imread(\"Image.jpg\")"
   ]
  },
  {
   "cell_type": "code",
   "execution_count": 12,
   "id": "0683abf6",
   "metadata": {},
   "outputs": [
    {
     "data": {
      "text/plain": [
       "(1080, 1080, 3)"
      ]
     },
     "execution_count": 12,
     "metadata": {},
     "output_type": "execute_result"
    }
   ],
   "source": [
    "photo.shape"
   ]
  },
  {
   "cell_type": "code",
   "execution_count": 13,
   "id": "5a062e6d",
   "metadata": {},
   "outputs": [],
   "source": [
    "#See image \n",
    "cv2.imshow(\"srk\",photo)\n",
    "cv2.waitKey()\n",
    "cv2.destroyAllWindows()"
   ]
  },
  {
   "cell_type": "code",
   "execution_count": 14,
   "id": "621a7a71",
   "metadata": {},
   "outputs": [],
   "source": [
    "# Red color - manual\n",
    "#rec_photo = cv2.rectangle(photo, (230,190),(420,430),[0,0,255],3)\n",
    "#rec_photo = cv2.rectangle(photo, (600,290),(750,580),[0,0,255],3)"
   ]
  },
  {
   "cell_type": "code",
   "execution_count": 15,
   "id": "01f136c4",
   "metadata": {},
   "outputs": [],
   "source": [
    "cv2.imshow(\"face-srk\",photo)\n",
    "cv2.waitKey()\n",
    "cv2.destroyAllWindows()"
   ]
  },
  {
   "cell_type": "code",
   "execution_count": 16,
   "id": "08e9e8d2",
   "metadata": {},
   "outputs": [],
   "source": [
    "# Load the model to detect face \n",
    "model = cv2.CascadeClassifier('haarcascade_frontalface_default.xml')"
   ]
  },
  {
   "cell_type": "code",
   "execution_count": 17,
   "id": "0ef38aba",
   "metadata": {},
   "outputs": [],
   "source": [
    "# Detect faces\n",
    "faces = model.detectMultiScale2(photo)"
   ]
  },
  {
   "cell_type": "code",
   "execution_count": 18,
   "id": "75d8c580",
   "metadata": {},
   "outputs": [
    {
     "data": {
      "text/plain": [
       "(array([[157, 835,  57,  57],\n",
       "        [561, 352, 178, 178],\n",
       "        [520, 757,  78,  78],\n",
       "        [376, 554,  43,  43]], dtype=int32),\n",
       " array([[5],\n",
       "        [4],\n",
       "        [5],\n",
       "        [4]], dtype=int32))"
      ]
     },
     "execution_count": 18,
     "metadata": {},
     "output_type": "execute_result"
    }
   ],
   "source": [
    "faces  # Detects one face. "
   ]
  },
  {
   "cell_type": "code",
   "execution_count": 19,
   "id": "68750798",
   "metadata": {},
   "outputs": [
    {
     "ename": "error",
     "evalue": "OpenCV(4.5.2) :-1: error: (-5:Bad argument) in function 'rectangle'\n> Overload resolution failed:\n>  - Can't parse 'pt2'. Input argument doesn't provide sequence protocol\n>  - Can't parse 'pt2'. Input argument doesn't provide sequence protocol\n>  - Can't parse 'rec'. Expected sequence length 4, got 2\n>  - Can't parse 'rec'. Expected sequence length 4, got 2\n",
     "output_type": "error",
     "traceback": [
      "\u001b[1;31m---------------------------------------------------------------------------\u001b[0m",
      "\u001b[1;31merror\u001b[0m                                     Traceback (most recent call last)",
      "\u001b[1;32m<ipython-input-19-291826bbc5eb>\u001b[0m in \u001b[0;36m<module>\u001b[1;34m\u001b[0m\n\u001b[0;32m      1\u001b[0m \u001b[1;31m# Green color by model\u001b[0m\u001b[1;33m\u001b[0m\u001b[1;33m\u001b[0m\u001b[1;33m\u001b[0m\u001b[0m\n\u001b[1;32m----> 2\u001b[1;33m \u001b[0mmodel_photo\u001b[0m \u001b[1;33m=\u001b[0m \u001b[0mcv2\u001b[0m\u001b[1;33m.\u001b[0m\u001b[0mrectangle\u001b[0m\u001b[1;33m(\u001b[0m\u001b[0mphoto\u001b[0m\u001b[1;33m,\u001b[0m \u001b[1;33m(\u001b[0m\u001b[1;36m154\u001b[0m\u001b[1;33m,\u001b[0m\u001b[1;36m835\u001b[0m\u001b[1;33m)\u001b[0m\u001b[1;33m,\u001b[0m\u001b[1;33m(\u001b[0m\u001b[1;36m157\u001b[0m\u001b[1;33m+\u001b[0m\u001b[1;36m835\u001b[0m\u001b[1;33m+\u001b[0m\u001b[1;36m57\u001b[0m\u001b[1;33m+\u001b[0m\u001b[1;36m57\u001b[0m\u001b[1;33m)\u001b[0m\u001b[1;33m,\u001b[0m\u001b[1;33m[\u001b[0m\u001b[1;36m0\u001b[0m\u001b[1;33m,\u001b[0m\u001b[1;36m255\u001b[0m\u001b[1;33m,\u001b[0m\u001b[1;36m0\u001b[0m\u001b[1;33m]\u001b[0m\u001b[1;33m,\u001b[0m\u001b[1;36m3\u001b[0m\u001b[1;33m)\u001b[0m\u001b[1;33m\u001b[0m\u001b[1;33m\u001b[0m\u001b[0m\n\u001b[0m",
      "\u001b[1;31merror\u001b[0m: OpenCV(4.5.2) :-1: error: (-5:Bad argument) in function 'rectangle'\n> Overload resolution failed:\n>  - Can't parse 'pt2'. Input argument doesn't provide sequence protocol\n>  - Can't parse 'pt2'. Input argument doesn't provide sequence protocol\n>  - Can't parse 'rec'. Expected sequence length 4, got 2\n>  - Can't parse 'rec'. Expected sequence length 4, got 2\n"
     ]
    }
   ],
   "source": [
    "# Green color by model\n",
    "model_photo = cv2.rectangle(photo, (154,835),(157+835+57+57),[0,255,0],3)"
   ]
  },
  {
   "cell_type": "code",
   "execution_count": 20,
   "id": "c47194a3",
   "metadata": {},
   "outputs": [
    {
     "ename": "NameError",
     "evalue": "name 'model_photo' is not defined",
     "output_type": "error",
     "traceback": [
      "\u001b[1;31m---------------------------------------------------------------------------\u001b[0m",
      "\u001b[1;31mNameError\u001b[0m                                 Traceback (most recent call last)",
      "\u001b[1;32m<ipython-input-20-55b59a1e910c>\u001b[0m in \u001b[0;36m<module>\u001b[1;34m\u001b[0m\n\u001b[1;32m----> 1\u001b[1;33m \u001b[0mcv2\u001b[0m\u001b[1;33m.\u001b[0m\u001b[0mimshow\u001b[0m\u001b[1;33m(\u001b[0m\u001b[1;34m\"face-srk-model\"\u001b[0m\u001b[1;33m,\u001b[0m\u001b[0mmodel_photo\u001b[0m\u001b[1;33m)\u001b[0m\u001b[1;33m\u001b[0m\u001b[1;33m\u001b[0m\u001b[0m\n\u001b[0m\u001b[0;32m      2\u001b[0m \u001b[0mcv2\u001b[0m\u001b[1;33m.\u001b[0m\u001b[0mwaitKey\u001b[0m\u001b[1;33m(\u001b[0m\u001b[1;33m)\u001b[0m\u001b[1;33m\u001b[0m\u001b[1;33m\u001b[0m\u001b[0m\n\u001b[0;32m      3\u001b[0m \u001b[0mcv2\u001b[0m\u001b[1;33m.\u001b[0m\u001b[0mdestroyAllWindows\u001b[0m\u001b[1;33m(\u001b[0m\u001b[1;33m)\u001b[0m\u001b[1;33m\u001b[0m\u001b[1;33m\u001b[0m\u001b[0m\n",
      "\u001b[1;31mNameError\u001b[0m: name 'model_photo' is not defined"
     ]
    }
   ],
   "source": [
    "cv2.imshow(\"face-srk-model\",model_photo)\n",
    "cv2.waitKey()\n",
    "cv2.destroyAllWindows()"
   ]
  },
  {
   "cell_type": "code",
   "execution_count": 21,
   "id": "29993eb9",
   "metadata": {},
   "outputs": [],
   "source": [
    "# To automate \n",
    "pic=cv2.imread(\"Image.jpg\")\n",
    "faces = model.detectMultiScale(pic)\n",
    "x1=faces[0][0]\n",
    "y1=faces[0][1]\n",
    "x2=x1+faces[0][2]\n",
    "y2=y1+faces[0][3]\n",
    "model_pic = cv2.rectangle(pic, (x1,y1),(x2,y2),[0,255,0],3)\n",
    "\n",
    "cv2.imshow(\"crop_srk\",model_pic)\n",
    "cv2.waitKey()\n",
    "cv2.destroyAllWindows()"
   ]
  },
  {
   "cell_type": "code",
   "execution_count": 22,
   "id": "7a28f64f",
   "metadata": {},
   "outputs": [],
   "source": [
    "# For live \n",
    "cap = cv2.VideoCapture(0)\n",
    "while True:\n",
    "    ret,photo=cap.read()\n",
    "    faces=model.detectMultiScale(photo)\n",
    "    if len(faces) == 0:\n",
    "        pass\n",
    "    else:\n",
    "        x1=faces[0][0]\n",
    "        y1=faces[0][1]\n",
    "        x2=x1+faces[0][2]\n",
    "        y2=y1+faces[0][3]\n",
    "        model_pic = cv2.rectangle(photo, (x1,y1),(x2,y2),[0,255,0],3)\n",
    "        cv2.imshow(\"pic\",model_pic)\n",
    "        if cv2.waitKey(10) == 13:\n",
    "            break\n",
    "cv2.destroyAllWindows()\n",
    "cap.release()"
   ]
  },
  {
   "cell_type": "code",
   "execution_count": null,
   "id": "e2050328",
   "metadata": {},
   "outputs": [],
   "source": []
  }
 ],
 "metadata": {
  "kernelspec": {
   "display_name": "Python 3",
   "language": "python",
   "name": "python3"
  },
  "language_info": {
   "codemirror_mode": {
    "name": "ipython",
    "version": 3
   },
   "file_extension": ".py",
   "mimetype": "text/x-python",
   "name": "python",
   "nbconvert_exporter": "python",
   "pygments_lexer": "ipython3",
   "version": "3.8.3"
  }
 },
 "nbformat": 4,
 "nbformat_minor": 5
}
