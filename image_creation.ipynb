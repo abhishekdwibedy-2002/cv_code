{
 "cells": [
  {
   "cell_type": "code",
   "execution_count": 230,
   "id": "73fa6779",
   "metadata": {},
   "outputs": [],
   "source": [
    "import cv2"
   ]
  },
  {
   "cell_type": "code",
   "execution_count": 231,
   "id": "7a00ac38",
   "metadata": {},
   "outputs": [],
   "source": [
    "import numpy"
   ]
  },
  {
   "cell_type": "code",
   "execution_count": 232,
   "id": "f65c3501",
   "metadata": {},
   "outputs": [],
   "source": [
    "photo = numpy.zeros((700,700,3))"
   ]
  },
  {
   "cell_type": "code",
   "execution_count": 233,
   "id": "efe89c7c",
   "metadata": {},
   "outputs": [],
   "source": [
    "#photo"
   ]
  },
  {
   "cell_type": "code",
   "execution_count": 234,
   "id": "8a78affc",
   "metadata": {},
   "outputs": [
    {
     "name": "stdout",
     "output_type": "stream",
     "text": [
      "<class 'numpy.ndarray'>\n"
     ]
    }
   ],
   "source": [
    "print(type(photo))"
   ]
  },
  {
   "cell_type": "code",
   "execution_count": 235,
   "id": "580f7f56",
   "metadata": {},
   "outputs": [],
   "source": [
    "cv2.imshow(\"myimg\",photo)#to open the photo\n",
    "cv2.waitKey()#to hold the program and keep the photo tab open\n",
    "cv2.destroyAllWindows()# close the program window"
   ]
  },
  {
   "cell_type": "code",
   "execution_count": 236,
   "id": "35b2c73f",
   "metadata": {},
   "outputs": [],
   "source": [
    "cv2.circle(photo , center = (350,175), radius = 75 , color = (0,255,0) , thickness = -1  )\n",
    "photo[250:270,340:360] = [255,0,255]\n",
    "photo[270:400,250:450] = [250,0,0]\n",
    "\n",
    "photo[400:550,395:405] = [255,0,0]\n",
    "photo[400:550,295:305] = [255,0,0]\n",
    "\n",
    "photo[270:280,450:550] = [255,0,255]\n",
    "photo[270:280,150:250] = [255,0,255]"
   ]
  },
  {
   "cell_type": "code",
   "execution_count": 237,
   "id": "de87047a",
   "metadata": {},
   "outputs": [],
   "source": [
    "cv2.imshow(\"myimg\",photo)#to open the photo\n",
    "cv2.waitKey()#to hold the program and keep the photo tab open\n",
    "cv2.destroyAllWindows()# close the program window"
   ]
  },
  {
   "cell_type": "code",
   "execution_count": null,
   "id": "c7195918",
   "metadata": {},
   "outputs": [],
   "source": []
  },
  {
   "cell_type": "code",
   "execution_count": null,
   "id": "57c291de",
   "metadata": {},
   "outputs": [],
   "source": []
  }
 ],
 "metadata": {
  "kernelspec": {
   "display_name": "Python 3",
   "language": "python",
   "name": "python3"
  },
  "language_info": {
   "codemirror_mode": {
    "name": "ipython",
    "version": 3
   },
   "file_extension": ".py",
   "mimetype": "text/x-python",
   "name": "python",
   "nbconvert_exporter": "python",
   "pygments_lexer": "ipython3",
   "version": "3.8.3"
  }
 },
 "nbformat": 4,
 "nbformat_minor": 5
}
