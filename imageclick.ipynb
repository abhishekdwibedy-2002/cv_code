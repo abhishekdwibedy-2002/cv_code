{
 "cells": [
  {
   "cell_type": "code",
   "execution_count": 1,
   "id": "9f1a79d9",
   "metadata": {},
   "outputs": [],
   "source": [
    "\n",
    "import cv2"
   ]
  },
  {
   "cell_type": "code",
   "execution_count": 2,
   "id": "dd2d7ccd",
   "metadata": {},
   "outputs": [],
   "source": [
    "#connect to the camera\n",
    "capture = cv2.VideoCapture(0)"
   ]
  },
  {
   "cell_type": "code",
   "execution_count": 3,
   "id": "22049b66",
   "metadata": {},
   "outputs": [],
   "source": [
    "# to get the image \n",
    "ret , photo = capture.read()"
   ]
  },
  {
   "cell_type": "code",
   "execution_count": 4,
   "id": "b8555f03",
   "metadata": {},
   "outputs": [
    {
     "data": {
      "text/plain": [
       "True"
      ]
     },
     "execution_count": 4,
     "metadata": {},
     "output_type": "execute_result"
    }
   ],
   "source": [
    "#ret is used to return value whether the photo is being clicked or not\n",
    "ret"
   ]
  },
  {
   "cell_type": "code",
   "execution_count": 5,
   "id": "1b6edf35",
   "metadata": {},
   "outputs": [
    {
     "data": {
      "text/plain": [
       "array([[[10,  8,  7],\n",
       "        [ 8,  7,  6],\n",
       "        [ 7,  8,  6],\n",
       "        ...,\n",
       "        [ 5,  5,  5],\n",
       "        [ 6,  6,  6],\n",
       "        [ 6,  6,  6]],\n",
       "\n",
       "       [[ 9,  7,  6],\n",
       "        [ 8,  7,  6],\n",
       "        [ 7,  8,  6],\n",
       "        ...,\n",
       "        [ 5,  5,  5],\n",
       "        [ 6,  6,  6],\n",
       "        [ 6,  6,  6]],\n",
       "\n",
       "       [[ 9,  7,  6],\n",
       "        [ 8,  7,  6],\n",
       "        [ 7,  8,  6],\n",
       "        ...,\n",
       "        [ 5,  5,  5],\n",
       "        [ 6,  6,  6],\n",
       "        [ 6,  6,  6]],\n",
       "\n",
       "       ...,\n",
       "\n",
       "       [[ 4,  2,  2],\n",
       "        [ 4,  2,  2],\n",
       "        [ 4,  2,  2],\n",
       "        ...,\n",
       "        [ 7,  5,  5],\n",
       "        [ 7,  5,  5],\n",
       "        [ 7,  5,  5]],\n",
       "\n",
       "       [[ 4,  2,  2],\n",
       "        [ 4,  2,  2],\n",
       "        [ 4,  2,  2],\n",
       "        ...,\n",
       "        [ 7,  5,  5],\n",
       "        [ 7,  5,  5],\n",
       "        [ 7,  5,  5]],\n",
       "\n",
       "       [[ 4,  2,  2],\n",
       "        [ 4,  2,  2],\n",
       "        [ 4,  2,  2],\n",
       "        ...,\n",
       "        [ 8,  6,  6],\n",
       "        [ 8,  6,  6],\n",
       "        [ 8,  6,  6]]], dtype=uint8)"
      ]
     },
     "execution_count": 5,
     "metadata": {},
     "output_type": "execute_result"
    }
   ],
   "source": [
    "#see the value in  2-Darray format\n",
    "photo"
   ]
  },
  {
   "cell_type": "code",
   "execution_count": 6,
   "id": "ff7933fc",
   "metadata": {},
   "outputs": [],
   "source": [
    "cv2.imwrite(\"myimg.jpg\",photo)#to store the photo\n",
    "capture.release()# to close the webcam\n",
    "cv2.imshow(\"myimg\",photo)#to open the photo\n",
    "cv2.waitKey()#to hold the program and keep the photo tab open\n",
    "cv2.destroyAllWindows()# close the program window"
   ]
  },
  {
   "cell_type": "code",
   "execution_count": null,
   "id": "1369b058",
   "metadata": {},
   "outputs": [],
   "source": []
  }
 ],
 "metadata": {
  "kernelspec": {
   "display_name": "Python 3",
   "language": "python",
   "name": "python3"
  },
  "language_info": {
   "codemirror_mode": {
    "name": "ipython",
    "version": 3
   },
   "file_extension": ".py",
   "mimetype": "text/x-python",
   "name": "python",
   "nbconvert_exporter": "python",
   "pygments_lexer": "ipython3",
   "version": "3.8.3"
  }
 },
 "nbformat": 4,
 "nbformat_minor": 5
}
